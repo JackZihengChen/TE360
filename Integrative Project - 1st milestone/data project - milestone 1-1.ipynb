{
 "cells": [
  {
   "cell_type": "markdown",
   "metadata": {},
   "source": [
    "# Analyzing Time Series Data with Socrata and Python"
   ]
  },
  {
   "cell_type": "code",
   "execution_count": 1,
   "metadata": {},
   "outputs": [
    {
     "data": {
      "text/plain": [
       "'E:\\\\FA22\\\\TE360\\\\Integrative Project - 1st milestone'"
      ]
     },
     "execution_count": 1,
     "metadata": {},
     "output_type": "execute_result"
    }
   ],
   "source": [
    "import os\n",
    "os.getcwd()"
   ]
  },
  {
   "cell_type": "markdown",
   "metadata": {},
   "source": [
    "## Loading datasets into our notebook"
   ]
  },
  {
   "cell_type": "markdown",
   "metadata": {},
   "source": [
    "We'll start by loading a city of Chicago permits dataset into a Pandas DataFrame. We'll use the open source sodapy Python Socrata module to do this."
   ]
  },
  {
   "cell_type": "code",
   "execution_count": 2,
   "metadata": {},
   "outputs": [],
   "source": [
    "import pandas as pd\n",
    "from sodapy import Socrata\n",
    "\n",
    "# load Chicago permits data\n",
    "chicago_permits_df = pd.read_csv(r'Building_Permits.csv', low_memory=False)"
   ]
  },
  {
   "cell_type": "markdown",
   "metadata": {},
   "source": [
    "In the next few cells we'll do some exploration of our datasets using the `len`, `head`, and `value_counts` functions. We'll start by getting a sense of how many rows are in each of our datasets with the `len` function."
   ]
  },
  {
   "cell_type": "markdown",
   "metadata": {},
   "source": [
    "Now let's see have a peek at the first 10 rows in each of those dataset using the `head` method. You can optionally pass a parameter for the number of rows you want to print if 5 isn't enough."
   ]
  },
  {
   "cell_type": "code",
   "execution_count": 3,
   "metadata": {},
   "outputs": [
    {
     "name": "stdout",
     "output_type": "stream",
     "text": [
      "715848\n"
     ]
    },
    {
     "data": {
      "text/html": [
       "<div>\n",
       "<style scoped>\n",
       "    .dataframe tbody tr th:only-of-type {\n",
       "        vertical-align: middle;\n",
       "    }\n",
       "\n",
       "    .dataframe tbody tr th {\n",
       "        vertical-align: top;\n",
       "    }\n",
       "\n",
       "    .dataframe thead th {\n",
       "        text-align: right;\n",
       "    }\n",
       "</style>\n",
       "<table border=\"1\" class=\"dataframe\">\n",
       "  <thead>\n",
       "    <tr style=\"text-align: right;\">\n",
       "      <th></th>\n",
       "      <th>ID</th>\n",
       "      <th>PERMIT#</th>\n",
       "      <th>PERMIT_TYPE</th>\n",
       "      <th>REVIEW_TYPE</th>\n",
       "      <th>APPLICATION_START_DATE</th>\n",
       "      <th>ISSUE_DATE</th>\n",
       "      <th>PROCESSING_TIME</th>\n",
       "      <th>STREET_NUMBER</th>\n",
       "      <th>STREET DIRECTION</th>\n",
       "      <th>STREET_NAME</th>\n",
       "      <th>...</th>\n",
       "      <th>PIN9</th>\n",
       "      <th>PIN10</th>\n",
       "      <th>COMMUNITY_AREA</th>\n",
       "      <th>CENSUS_TRACT</th>\n",
       "      <th>WARD</th>\n",
       "      <th>XCOORDINATE</th>\n",
       "      <th>YCOORDINATE</th>\n",
       "      <th>LATITUDE</th>\n",
       "      <th>LONGITUDE</th>\n",
       "      <th>LOCATION</th>\n",
       "    </tr>\n",
       "  </thead>\n",
       "  <tbody>\n",
       "    <tr>\n",
       "      <th>0</th>\n",
       "      <td>1614287</td>\n",
       "      <td>100072880</td>\n",
       "      <td>PERMIT - RENOVATION/ALTERATION</td>\n",
       "      <td>STANDARD PLAN REVIEW</td>\n",
       "      <td>10/14/2005</td>\n",
       "      <td>01/03/2006</td>\n",
       "      <td>81.0</td>\n",
       "      <td>2728</td>\n",
       "      <td>N</td>\n",
       "      <td>MONTICELLO</td>\n",
       "      <td>...</td>\n",
       "      <td>NaN</td>\n",
       "      <td>NaN</td>\n",
       "      <td>NaN</td>\n",
       "      <td>NaN</td>\n",
       "      <td>NaN</td>\n",
       "      <td>1.151539e+06</td>\n",
       "      <td>1.918031e+06</td>\n",
       "      <td>41.930957</td>\n",
       "      <td>-87.718543</td>\n",
       "      <td>POINT (-87.718542820893 41.930957454144)</td>\n",
       "    </tr>\n",
       "    <tr>\n",
       "      <th>1</th>\n",
       "      <td>1614342</td>\n",
       "      <td>100072909</td>\n",
       "      <td>PERMIT - NEW CONSTRUCTION</td>\n",
       "      <td>STANDARD PLAN REVIEW</td>\n",
       "      <td>12/05/2005</td>\n",
       "      <td>03/29/2006</td>\n",
       "      <td>114.0</td>\n",
       "      <td>1409</td>\n",
       "      <td>S</td>\n",
       "      <td>KEDVALE</td>\n",
       "      <td>...</td>\n",
       "      <td>NaN</td>\n",
       "      <td>NaN</td>\n",
       "      <td>NaN</td>\n",
       "      <td>NaN</td>\n",
       "      <td>NaN</td>\n",
       "      <td>1.148986e+06</td>\n",
       "      <td>1.892939e+06</td>\n",
       "      <td>41.862155</td>\n",
       "      <td>-87.728575</td>\n",
       "      <td>POINT (-87.728575200899 41.862154886848)</td>\n",
       "    </tr>\n",
       "    <tr>\n",
       "      <th>2</th>\n",
       "      <td>1614371</td>\n",
       "      <td>100072936</td>\n",
       "      <td>PERMIT - SIGNS</td>\n",
       "      <td>SIGN PERMIT</td>\n",
       "      <td>10/17/2005</td>\n",
       "      <td>01/12/2006</td>\n",
       "      <td>87.0</td>\n",
       "      <td>120</td>\n",
       "      <td>S</td>\n",
       "      <td>LA SALLE</td>\n",
       "      <td>...</td>\n",
       "      <td>NaN</td>\n",
       "      <td>NaN</td>\n",
       "      <td>NaN</td>\n",
       "      <td>NaN</td>\n",
       "      <td>NaN</td>\n",
       "      <td>1.175112e+06</td>\n",
       "      <td>1.899771e+06</td>\n",
       "      <td>41.880356</td>\n",
       "      <td>-87.632466</td>\n",
       "      <td>POINT (-87.632466106592 41.880356217665)</td>\n",
       "    </tr>\n",
       "    <tr>\n",
       "      <th>3</th>\n",
       "      <td>1637148</td>\n",
       "      <td>100086388</td>\n",
       "      <td>PERMIT - RENOVATION/ALTERATION</td>\n",
       "      <td>SELF CERT</td>\n",
       "      <td>01/25/2006</td>\n",
       "      <td>01/26/2006</td>\n",
       "      <td>1.0</td>\n",
       "      <td>71</td>\n",
       "      <td>S</td>\n",
       "      <td>WACKER</td>\n",
       "      <td>...</td>\n",
       "      <td>NaN</td>\n",
       "      <td>NaN</td>\n",
       "      <td>NaN</td>\n",
       "      <td>NaN</td>\n",
       "      <td>NaN</td>\n",
       "      <td>1.173988e+06</td>\n",
       "      <td>1.899894e+06</td>\n",
       "      <td>41.880718</td>\n",
       "      <td>-87.636589</td>\n",
       "      <td>POINT (-87.636589107372 41.880717575265)</td>\n",
       "    </tr>\n",
       "    <tr>\n",
       "      <th>4</th>\n",
       "      <td>1637165</td>\n",
       "      <td>100086395</td>\n",
       "      <td>PERMIT - RENOVATION/ALTERATION</td>\n",
       "      <td>SELF CERT</td>\n",
       "      <td>01/21/2006</td>\n",
       "      <td>01/21/2006</td>\n",
       "      <td>0.0</td>\n",
       "      <td>4901</td>\n",
       "      <td>S</td>\n",
       "      <td>CICERO</td>\n",
       "      <td>...</td>\n",
       "      <td>NaN</td>\n",
       "      <td>NaN</td>\n",
       "      <td>NaN</td>\n",
       "      <td>NaN</td>\n",
       "      <td>NaN</td>\n",
       "      <td>1.145226e+06</td>\n",
       "      <td>1.871678e+06</td>\n",
       "      <td>41.803882</td>\n",
       "      <td>-87.742911</td>\n",
       "      <td>POINT (-87.742911007932 41.80388237071)</td>\n",
       "    </tr>\n",
       "    <tr>\n",
       "      <th>5</th>\n",
       "      <td>1641218</td>\n",
       "      <td>100089035</td>\n",
       "      <td>PERMIT - SIGNS</td>\n",
       "      <td>SIGN PERMIT</td>\n",
       "      <td>01/10/2006</td>\n",
       "      <td>01/10/2006</td>\n",
       "      <td>0.0</td>\n",
       "      <td>4001</td>\n",
       "      <td>W</td>\n",
       "      <td>IRVING PARK</td>\n",
       "      <td>...</td>\n",
       "      <td>NaN</td>\n",
       "      <td>NaN</td>\n",
       "      <td>NaN</td>\n",
       "      <td>NaN</td>\n",
       "      <td>NaN</td>\n",
       "      <td>1.148990e+06</td>\n",
       "      <td>1.926241e+06</td>\n",
       "      <td>41.953537</td>\n",
       "      <td>-87.727695</td>\n",
       "      <td>POINT (-87.727695188773 41.953537356864)</td>\n",
       "    </tr>\n",
       "    <tr>\n",
       "      <th>6</th>\n",
       "      <td>1641219</td>\n",
       "      <td>100089036</td>\n",
       "      <td>PERMIT - SIGNS</td>\n",
       "      <td>SIGN PERMIT</td>\n",
       "      <td>01/10/2006</td>\n",
       "      <td>01/10/2006</td>\n",
       "      <td>0.0</td>\n",
       "      <td>4001</td>\n",
       "      <td>W</td>\n",
       "      <td>IRVING PARK</td>\n",
       "      <td>...</td>\n",
       "      <td>NaN</td>\n",
       "      <td>NaN</td>\n",
       "      <td>NaN</td>\n",
       "      <td>NaN</td>\n",
       "      <td>NaN</td>\n",
       "      <td>1.148990e+06</td>\n",
       "      <td>1.926241e+06</td>\n",
       "      <td>41.953537</td>\n",
       "      <td>-87.727695</td>\n",
       "      <td>POINT (-87.727695188773 41.953537356864)</td>\n",
       "    </tr>\n",
       "    <tr>\n",
       "      <th>7</th>\n",
       "      <td>1641220</td>\n",
       "      <td>100089037</td>\n",
       "      <td>PERMIT - SIGNS</td>\n",
       "      <td>SIGN PERMIT</td>\n",
       "      <td>01/11/2006</td>\n",
       "      <td>01/11/2006</td>\n",
       "      <td>0.0</td>\n",
       "      <td>4001</td>\n",
       "      <td>W</td>\n",
       "      <td>IRVING PARK</td>\n",
       "      <td>...</td>\n",
       "      <td>NaN</td>\n",
       "      <td>NaN</td>\n",
       "      <td>NaN</td>\n",
       "      <td>NaN</td>\n",
       "      <td>NaN</td>\n",
       "      <td>1.148990e+06</td>\n",
       "      <td>1.926241e+06</td>\n",
       "      <td>41.953537</td>\n",
       "      <td>-87.727695</td>\n",
       "      <td>POINT (-87.727695188773 41.953537356864)</td>\n",
       "    </tr>\n",
       "    <tr>\n",
       "      <th>8</th>\n",
       "      <td>1641221</td>\n",
       "      <td>100089038</td>\n",
       "      <td>PERMIT - SIGNS</td>\n",
       "      <td>SIGN PERMIT</td>\n",
       "      <td>01/11/2006</td>\n",
       "      <td>01/11/2006</td>\n",
       "      <td>0.0</td>\n",
       "      <td>4001</td>\n",
       "      <td>W</td>\n",
       "      <td>IRVING PARK</td>\n",
       "      <td>...</td>\n",
       "      <td>NaN</td>\n",
       "      <td>NaN</td>\n",
       "      <td>NaN</td>\n",
       "      <td>NaN</td>\n",
       "      <td>NaN</td>\n",
       "      <td>1.148990e+06</td>\n",
       "      <td>1.926241e+06</td>\n",
       "      <td>41.953537</td>\n",
       "      <td>-87.727695</td>\n",
       "      <td>POINT (-87.727695188773 41.953537356864)</td>\n",
       "    </tr>\n",
       "    <tr>\n",
       "      <th>9</th>\n",
       "      <td>1641222</td>\n",
       "      <td>100089039</td>\n",
       "      <td>PERMIT - SIGNS</td>\n",
       "      <td>SIGN PERMIT</td>\n",
       "      <td>01/11/2006</td>\n",
       "      <td>01/11/2006</td>\n",
       "      <td>0.0</td>\n",
       "      <td>4001</td>\n",
       "      <td>W</td>\n",
       "      <td>IRVING PARK</td>\n",
       "      <td>...</td>\n",
       "      <td>NaN</td>\n",
       "      <td>NaN</td>\n",
       "      <td>NaN</td>\n",
       "      <td>NaN</td>\n",
       "      <td>NaN</td>\n",
       "      <td>1.148990e+06</td>\n",
       "      <td>1.926241e+06</td>\n",
       "      <td>41.953537</td>\n",
       "      <td>-87.727695</td>\n",
       "      <td>POINT (-87.727695188773 41.953537356864)</td>\n",
       "    </tr>\n",
       "  </tbody>\n",
       "</table>\n",
       "<p>10 rows × 119 columns</p>\n",
       "</div>"
      ],
      "text/plain": [
       "        ID    PERMIT#                     PERMIT_TYPE           REVIEW_TYPE  \\\n",
       "0  1614287  100072880  PERMIT - RENOVATION/ALTERATION  STANDARD PLAN REVIEW   \n",
       "1  1614342  100072909       PERMIT - NEW CONSTRUCTION  STANDARD PLAN REVIEW   \n",
       "2  1614371  100072936                  PERMIT - SIGNS           SIGN PERMIT   \n",
       "3  1637148  100086388  PERMIT - RENOVATION/ALTERATION             SELF CERT   \n",
       "4  1637165  100086395  PERMIT - RENOVATION/ALTERATION             SELF CERT   \n",
       "5  1641218  100089035                  PERMIT - SIGNS           SIGN PERMIT   \n",
       "6  1641219  100089036                  PERMIT - SIGNS           SIGN PERMIT   \n",
       "7  1641220  100089037                  PERMIT - SIGNS           SIGN PERMIT   \n",
       "8  1641221  100089038                  PERMIT - SIGNS           SIGN PERMIT   \n",
       "9  1641222  100089039                  PERMIT - SIGNS           SIGN PERMIT   \n",
       "\n",
       "  APPLICATION_START_DATE  ISSUE_DATE  PROCESSING_TIME  STREET_NUMBER  \\\n",
       "0             10/14/2005  01/03/2006             81.0           2728   \n",
       "1             12/05/2005  03/29/2006            114.0           1409   \n",
       "2             10/17/2005  01/12/2006             87.0            120   \n",
       "3             01/25/2006  01/26/2006              1.0             71   \n",
       "4             01/21/2006  01/21/2006              0.0           4901   \n",
       "5             01/10/2006  01/10/2006              0.0           4001   \n",
       "6             01/10/2006  01/10/2006              0.0           4001   \n",
       "7             01/11/2006  01/11/2006              0.0           4001   \n",
       "8             01/11/2006  01/11/2006              0.0           4001   \n",
       "9             01/11/2006  01/11/2006              0.0           4001   \n",
       "\n",
       "  STREET DIRECTION  STREET_NAME  ... PIN9 PIN10  COMMUNITY_AREA  CENSUS_TRACT  \\\n",
       "0                N   MONTICELLO  ...  NaN   NaN             NaN           NaN   \n",
       "1                S      KEDVALE  ...  NaN   NaN             NaN           NaN   \n",
       "2                S     LA SALLE  ...  NaN   NaN             NaN           NaN   \n",
       "3                S       WACKER  ...  NaN   NaN             NaN           NaN   \n",
       "4                S       CICERO  ...  NaN   NaN             NaN           NaN   \n",
       "5                W  IRVING PARK  ...  NaN   NaN             NaN           NaN   \n",
       "6                W  IRVING PARK  ...  NaN   NaN             NaN           NaN   \n",
       "7                W  IRVING PARK  ...  NaN   NaN             NaN           NaN   \n",
       "8                W  IRVING PARK  ...  NaN   NaN             NaN           NaN   \n",
       "9                W  IRVING PARK  ...  NaN   NaN             NaN           NaN   \n",
       "\n",
       "   WARD   XCOORDINATE   YCOORDINATE   LATITUDE  LONGITUDE  \\\n",
       "0   NaN  1.151539e+06  1.918031e+06  41.930957 -87.718543   \n",
       "1   NaN  1.148986e+06  1.892939e+06  41.862155 -87.728575   \n",
       "2   NaN  1.175112e+06  1.899771e+06  41.880356 -87.632466   \n",
       "3   NaN  1.173988e+06  1.899894e+06  41.880718 -87.636589   \n",
       "4   NaN  1.145226e+06  1.871678e+06  41.803882 -87.742911   \n",
       "5   NaN  1.148990e+06  1.926241e+06  41.953537 -87.727695   \n",
       "6   NaN  1.148990e+06  1.926241e+06  41.953537 -87.727695   \n",
       "7   NaN  1.148990e+06  1.926241e+06  41.953537 -87.727695   \n",
       "8   NaN  1.148990e+06  1.926241e+06  41.953537 -87.727695   \n",
       "9   NaN  1.148990e+06  1.926241e+06  41.953537 -87.727695   \n",
       "\n",
       "                                   LOCATION  \n",
       "0  POINT (-87.718542820893 41.930957454144)  \n",
       "1  POINT (-87.728575200899 41.862154886848)  \n",
       "2  POINT (-87.632466106592 41.880356217665)  \n",
       "3  POINT (-87.636589107372 41.880717575265)  \n",
       "4   POINT (-87.742911007932 41.80388237071)  \n",
       "5  POINT (-87.727695188773 41.953537356864)  \n",
       "6  POINT (-87.727695188773 41.953537356864)  \n",
       "7  POINT (-87.727695188773 41.953537356864)  \n",
       "8  POINT (-87.727695188773 41.953537356864)  \n",
       "9  POINT (-87.727695188773 41.953537356864)  \n",
       "\n",
       "[10 rows x 119 columns]"
      ]
     },
     "execution_count": 3,
     "metadata": {},
     "output_type": "execute_result"
    }
   ],
   "source": [
    "print(len(chicago_permits_df))\n",
    "chicago_permits_df.head(10)"
   ]
  },
  {
   "cell_type": "markdown",
   "metadata": {},
   "source": [
    "Printing our dataframes like this gives us a sense of what columns exist, and quick sense of some of the values in the dataset. But there's an even better way to detrmine the top values for a particular column -- the `value_counts` method."
   ]
  },
  {
   "cell_type": "code",
   "execution_count": 4,
   "metadata": {},
   "outputs": [
    {
     "data": {
      "text/plain": [
       "NaN           520\n",
       "10/16/2007    365\n",
       "05/25/2016    346\n",
       "08/14/2019    341\n",
       "03/07/2017    327\n",
       "04/23/2012    321\n",
       "03/30/2011    321\n",
       "03/13/2006    319\n",
       "09/22/2014    315\n",
       "07/19/2006    314\n",
       "Name: APPLICATION_START_DATE, dtype: int64"
      ]
     },
     "execution_count": 4,
     "metadata": {},
     "output_type": "execute_result"
    }
   ],
   "source": [
    "chicago_permits_df[\"APPLICATION_START_DATE\"].value_counts(dropna=False).head(10)"
   ]
  },
  {
   "cell_type": "markdown",
   "metadata": {},
   "source": [
    "## Select a subset of a DataFrame & Deal with missing values"
   ]
  },
  {
   "cell_type": "code",
   "execution_count": 5,
   "metadata": {},
   "outputs": [
    {
     "data": {
      "text/plain": [
       "(715848, 119)"
      ]
     },
     "execution_count": 5,
     "metadata": {},
     "output_type": "execute_result"
    }
   ],
   "source": [
    "chicago_permits_df.shape"
   ]
  },
  {
   "cell_type": "code",
   "execution_count": 6,
   "metadata": {},
   "outputs": [
    {
     "name": "stdout",
     "output_type": "stream",
     "text": [
      "<class 'pandas.core.frame.DataFrame'>\n",
      "RangeIndex: 715848 entries, 0 to 715847\n",
      "Columns: 119 entries, ID to LOCATION\n",
      "dtypes: float64(23), int64(2), object(94)\n",
      "memory usage: 649.9+ MB\n"
     ]
    }
   ],
   "source": [
    "chicago_permits_df.info()"
   ]
  },
  {
   "cell_type": "code",
   "execution_count": 7,
   "metadata": {},
   "outputs": [
    {
     "name": "stdout",
     "output_type": "stream",
     "text": [
      "ID                           0\n",
      "PERMIT#                      0\n",
      "PERMIT_TYPE                  0\n",
      "REVIEW_TYPE                 10\n",
      "APPLICATION_START_DATE     520\n",
      "                          ... \n",
      "XCOORDINATE               1333\n",
      "YCOORDINATE               1333\n",
      "LATITUDE                  2208\n",
      "LONGITUDE                 2208\n",
      "LOCATION                  2208\n",
      "Length: 119, dtype: int64\n"
     ]
    }
   ],
   "source": [
    "print(chicago_permits_df.isnull().sum())"
   ]
  },
  {
   "cell_type": "markdown",
   "metadata": {},
   "source": [
    "There are too many columns to analysize and we probably do not care the information in all the columns. So let's only select part of the dataframe we care about. Please make your own decision of columns selection based on what you would like to observie."
   ]
  },
  {
   "cell_type": "code",
   "execution_count": 8,
   "metadata": {},
   "outputs": [
    {
     "data": {
      "text/plain": [
       "Index(['ID', 'PERMIT#', 'PERMIT_TYPE', 'REVIEW_TYPE', 'APPLICATION_START_DATE',\n",
       "       'ISSUE_DATE', 'PROCESSING_TIME', 'STREET_NUMBER', 'STREET DIRECTION',\n",
       "       'STREET_NAME',\n",
       "       ...\n",
       "       'PIN9', 'PIN10', 'COMMUNITY_AREA', 'CENSUS_TRACT', 'WARD',\n",
       "       'XCOORDINATE', 'YCOORDINATE', 'LATITUDE', 'LONGITUDE', 'LOCATION'],\n",
       "      dtype='object', length=119)"
      ]
     },
     "execution_count": 8,
     "metadata": {},
     "output_type": "execute_result"
    }
   ],
   "source": [
    "chicago_permits_df.columns"
   ]
  },
  {
   "cell_type": "code",
   "execution_count": 9,
   "metadata": {},
   "outputs": [],
   "source": [
    "chicago_permits_df_sub = chicago_permits_df[['ID', 'PERMIT#', 'PERMIT_TYPE', 'REVIEW_TYPE', 'APPLICATION_START_DATE','STREET DIRECTION','COMMUNITY_AREA','LATITUDE', 'LONGITUDE', 'LOCATION']]"
   ]
  },
  {
   "cell_type": "code",
   "execution_count": 10,
   "metadata": {},
   "outputs": [
    {
     "name": "stdout",
     "output_type": "stream",
     "text": [
      "<class 'pandas.core.frame.DataFrame'>\n",
      "RangeIndex: 715848 entries, 0 to 715847\n",
      "Data columns (total 10 columns):\n",
      " #   Column                  Non-Null Count   Dtype  \n",
      "---  ------                  --------------   -----  \n",
      " 0   ID                      715848 non-null  int64  \n",
      " 1   PERMIT#                 715848 non-null  object \n",
      " 2   PERMIT_TYPE             715848 non-null  object \n",
      " 3   REVIEW_TYPE             715838 non-null  object \n",
      " 4   APPLICATION_START_DATE  715328 non-null  object \n",
      " 5   STREET DIRECTION        715848 non-null  object \n",
      " 6   COMMUNITY_AREA          611524 non-null  float64\n",
      " 7   LATITUDE                713640 non-null  float64\n",
      " 8   LONGITUDE               713640 non-null  float64\n",
      " 9   LOCATION                713640 non-null  object \n",
      "dtypes: float64(3), int64(1), object(6)\n",
      "memory usage: 54.6+ MB\n"
     ]
    }
   ],
   "source": [
    "chicago_permits_df_sub.info()"
   ]
  },
  {
   "cell_type": "markdown",
   "metadata": {},
   "source": [
    "The value counts make it clear that a lot of the values in the \"application_start_date\" column are missing or null. There a variety of ways you can handle missing data, but removing incomplete rows is the simplest. In the next cell, we'll remove rows with null dates. There are also a lot of columns in the permits dataset that we won't use in this analysis. So we'll also filter down our dataset to just the columns we're interested in to reduce the amount of extraneous information."
   ]
  },
  {
   "cell_type": "code",
   "execution_count": 11,
   "metadata": {},
   "outputs": [
    {
     "data": {
      "text/html": [
       "<div>\n",
       "<style scoped>\n",
       "    .dataframe tbody tr th:only-of-type {\n",
       "        vertical-align: middle;\n",
       "    }\n",
       "\n",
       "    .dataframe tbody tr th {\n",
       "        vertical-align: top;\n",
       "    }\n",
       "\n",
       "    .dataframe thead th {\n",
       "        text-align: right;\n",
       "    }\n",
       "</style>\n",
       "<table border=\"1\" class=\"dataframe\">\n",
       "  <thead>\n",
       "    <tr style=\"text-align: right;\">\n",
       "      <th></th>\n",
       "      <th>APPLICATION_START_DATE</th>\n",
       "    </tr>\n",
       "  </thead>\n",
       "  <tbody>\n",
       "    <tr>\n",
       "      <th>0</th>\n",
       "      <td>10/14/2005</td>\n",
       "    </tr>\n",
       "    <tr>\n",
       "      <th>1</th>\n",
       "      <td>12/05/2005</td>\n",
       "    </tr>\n",
       "    <tr>\n",
       "      <th>2</th>\n",
       "      <td>10/17/2005</td>\n",
       "    </tr>\n",
       "    <tr>\n",
       "      <th>3</th>\n",
       "      <td>01/25/2006</td>\n",
       "    </tr>\n",
       "    <tr>\n",
       "      <th>4</th>\n",
       "      <td>01/21/2006</td>\n",
       "    </tr>\n",
       "    <tr>\n",
       "      <th>5</th>\n",
       "      <td>01/10/2006</td>\n",
       "    </tr>\n",
       "    <tr>\n",
       "      <th>6</th>\n",
       "      <td>01/10/2006</td>\n",
       "    </tr>\n",
       "    <tr>\n",
       "      <th>7</th>\n",
       "      <td>01/11/2006</td>\n",
       "    </tr>\n",
       "    <tr>\n",
       "      <th>8</th>\n",
       "      <td>01/11/2006</td>\n",
       "    </tr>\n",
       "    <tr>\n",
       "      <th>9</th>\n",
       "      <td>01/11/2006</td>\n",
       "    </tr>\n",
       "  </tbody>\n",
       "</table>\n",
       "</div>"
      ],
      "text/plain": [
       "  APPLICATION_START_DATE\n",
       "0             10/14/2005\n",
       "1             12/05/2005\n",
       "2             10/17/2005\n",
       "3             01/25/2006\n",
       "4             01/21/2006\n",
       "5             01/10/2006\n",
       "6             01/10/2006\n",
       "7             01/11/2006\n",
       "8             01/11/2006\n",
       "9             01/11/2006"
      ]
     },
     "execution_count": 11,
     "metadata": {},
     "output_type": "execute_result"
    }
   ],
   "source": [
    "chicago_permits_df_sub_notnull = chicago_permits_df_sub[chicago_permits_df_sub[\"APPLICATION_START_DATE\"].notnull()]\n",
    "chicago_permits_df_sub_notnull = chicago_permits_df_sub_notnull[[\"APPLICATION_START_DATE\"]].reset_index(drop=True)\n",
    "chicago_permits_df_sub_notnull.head(10)"
   ]
  },
  {
   "cell_type": "markdown",
   "metadata": {},
   "source": [
    "### Q1"
   ]
  },
  {
   "cell_type": "markdown",
   "metadata": {},
   "source": [
    "You can learn other methods to deal with missing values here: https://www.analyticsvidhya.com/blog/2021/05/dealing-with-missing-values-in-python-a-complete-guide/\n",
    "\n",
    "Answer the following questions:\n",
    "\n",
    "1.1 What variables have missing values? What types/forms of missing values are they? (e.g blank, NA, N/A, -, etc.)\n",
    "\n",
    "1.2 Please briefly describe how you deal will with these missing values and justify why you chose\n",
    "these methods (Hint: common imputation methods include impute by mean/median/mode, keep and ignore the NAs, drop the observations with NAs). \n",
    "\n",
    "1.3 After dealing with missing values, show the dimensions of the data."
   ]
  },
  {
   "cell_type": "markdown",
   "metadata": {},
   "source": [
    "#### Q1.1"
   ]
  },
  {
   "cell_type": "code",
   "execution_count": 12,
   "metadata": {},
   "outputs": [
    {
     "name": "stdout",
     "output_type": "stream",
     "text": [
      "ID                             0\n",
      "PERMIT#                        0\n",
      "PERMIT_TYPE                    0\n",
      "STREET DIRECTION               0\n",
      "REVIEW_TYPE                   10\n",
      "APPLICATION_START_DATE       520\n",
      "LATITUDE                    2208\n",
      "LONGITUDE                   2208\n",
      "LOCATION                    2208\n",
      "COMMUNITY_AREA            104324\n",
      "dtype: int64\n"
     ]
    }
   ],
   "source": [
    "## TODO:Q1\n",
    "print(chicago_permits_df_sub.isnull().sum().sort_values())"
   ]
  },
  {
   "cell_type": "code",
   "execution_count": 13,
   "metadata": {},
   "outputs": [
    {
     "name": "stdout",
     "output_type": "stream",
     "text": [
      "79544    NaN\n",
      "Name: REVIEW_TYPE, dtype: object\n",
      "485    NaN\n",
      "Name: APPLICATION_START_DATE, dtype: object\n",
      "Series([], Name: STREET DIRECTION, dtype: object)\n",
      "0   NaN\n",
      "Name: COMMUNITY_AREA, dtype: float64\n",
      "20   NaN\n",
      "Name: LATITUDE, dtype: float64\n",
      "20   NaN\n",
      "Name: LONGITUDE, dtype: float64\n",
      "20    NaN\n",
      "Name: LOCATION, dtype: object\n"
     ]
    }
   ],
   "source": [
    "for x in ['REVIEW_TYPE', 'APPLICATION_START_DATE','STREET DIRECTION','COMMUNITY_AREA','LATITUDE', 'LONGITUDE', 'LOCATION']:\n",
    "    print(chicago_permits_df_sub[chicago_permits_df_sub[x].isnull()].head(1)[x])    "
   ]
  },
  {
   "cell_type": "markdown",
   "metadata": {},
   "source": [
    "#### Q1.2"
   ]
  },
  {
   "cell_type": "code",
   "execution_count": 14,
   "metadata": {},
   "outputs": [
    {
     "name": "stdout",
     "output_type": "stream",
     "text": [
      "ID                        0\n",
      "PERMIT#                   0\n",
      "PERMIT_TYPE               0\n",
      "REVIEW_TYPE               0\n",
      "APPLICATION_START_DATE    0\n",
      "STREET DIRECTION          0\n",
      "COMMUNITY_AREA            0\n",
      "LATITUDE                  0\n",
      "LONGITUDE                 0\n",
      "LOCATION                  0\n",
      "dtype: int64\n"
     ]
    }
   ],
   "source": [
    "chicago_permits_df_sub_drop = chicago_permits_df_sub.dropna(axis=0)\n",
    "print(chicago_permits_df_sub_drop.isnull().sum().sort_values())"
   ]
  },
  {
   "cell_type": "markdown",
   "metadata": {},
   "source": [
    "#### Q1.3"
   ]
  },
  {
   "cell_type": "code",
   "execution_count": 15,
   "metadata": {},
   "outputs": [
    {
     "data": {
      "text/plain": [
       "(609599, 10)"
      ]
     },
     "execution_count": 15,
     "metadata": {},
     "output_type": "execute_result"
    }
   ],
   "source": [
    "chicago_permits_df_sub_drop.shape"
   ]
  },
  {
   "cell_type": "markdown",
   "metadata": {},
   "source": [
    "## Print descriptive statistics"
   ]
  },
  {
   "cell_type": "markdown",
   "metadata": {},
   "source": [
    "Use info() to get some basic summary about the dataframe, and also describe() helps us to get some descriptive statistics about columns containing the numeric values."
   ]
  },
  {
   "cell_type": "code",
   "execution_count": 16,
   "metadata": {},
   "outputs": [
    {
     "name": "stdout",
     "output_type": "stream",
     "text": [
      "<class 'pandas.core.frame.DataFrame'>\n",
      "RangeIndex: 715848 entries, 0 to 715847\n",
      "Data columns (total 10 columns):\n",
      " #   Column                  Non-Null Count   Dtype  \n",
      "---  ------                  --------------   -----  \n",
      " 0   ID                      715848 non-null  int64  \n",
      " 1   PERMIT#                 715848 non-null  object \n",
      " 2   PERMIT_TYPE             715848 non-null  object \n",
      " 3   REVIEW_TYPE             715838 non-null  object \n",
      " 4   APPLICATION_START_DATE  715328 non-null  object \n",
      " 5   STREET DIRECTION        715848 non-null  object \n",
      " 6   COMMUNITY_AREA          611524 non-null  float64\n",
      " 7   LATITUDE                713640 non-null  float64\n",
      " 8   LONGITUDE               713640 non-null  float64\n",
      " 9   LOCATION                713640 non-null  object \n",
      "dtypes: float64(3), int64(1), object(6)\n",
      "memory usage: 54.6+ MB\n"
     ]
    }
   ],
   "source": [
    "chicago_permits_df_sub.info()"
   ]
  },
  {
   "cell_type": "code",
   "execution_count": 17,
   "metadata": {},
   "outputs": [
    {
     "data": {
      "text/html": [
       "<div>\n",
       "<style scoped>\n",
       "    .dataframe tbody tr th:only-of-type {\n",
       "        vertical-align: middle;\n",
       "    }\n",
       "\n",
       "    .dataframe tbody tr th {\n",
       "        vertical-align: top;\n",
       "    }\n",
       "\n",
       "    .dataframe thead th {\n",
       "        text-align: right;\n",
       "    }\n",
       "</style>\n",
       "<table border=\"1\" class=\"dataframe\">\n",
       "  <thead>\n",
       "    <tr style=\"text-align: right;\">\n",
       "      <th></th>\n",
       "      <th>ID</th>\n",
       "      <th>COMMUNITY_AREA</th>\n",
       "      <th>LATITUDE</th>\n",
       "      <th>LONGITUDE</th>\n",
       "    </tr>\n",
       "  </thead>\n",
       "  <tbody>\n",
       "    <tr>\n",
       "      <th>count</th>\n",
       "      <td>7.158480e+05</td>\n",
       "      <td>611524.000000</td>\n",
       "      <td>713640.000000</td>\n",
       "      <td>713640.000000</td>\n",
       "    </tr>\n",
       "    <tr>\n",
       "      <th>mean</th>\n",
       "      <td>2.527787e+06</td>\n",
       "      <td>31.517875</td>\n",
       "      <td>41.870022</td>\n",
       "      <td>-87.672906</td>\n",
       "    </tr>\n",
       "    <tr>\n",
       "      <th>std</th>\n",
       "      <td>4.845136e+05</td>\n",
       "      <td>21.942573</td>\n",
       "      <td>0.083762</td>\n",
       "      <td>0.059605</td>\n",
       "    </tr>\n",
       "    <tr>\n",
       "      <th>min</th>\n",
       "      <td>8.766740e+05</td>\n",
       "      <td>0.000000</td>\n",
       "      <td>41.644670</td>\n",
       "      <td>-87.940225</td>\n",
       "    </tr>\n",
       "    <tr>\n",
       "      <th>25%</th>\n",
       "      <td>2.132719e+06</td>\n",
       "      <td>12.000000</td>\n",
       "      <td>41.803602</td>\n",
       "      <td>-87.707295</td>\n",
       "    </tr>\n",
       "    <tr>\n",
       "      <th>50%</th>\n",
       "      <td>2.579556e+06</td>\n",
       "      <td>28.000000</td>\n",
       "      <td>41.885830</td>\n",
       "      <td>-87.662427</td>\n",
       "    </tr>\n",
       "    <tr>\n",
       "      <th>75%</th>\n",
       "      <td>2.947415e+06</td>\n",
       "      <td>46.000000</td>\n",
       "      <td>41.930767</td>\n",
       "      <td>-87.631916</td>\n",
       "    </tr>\n",
       "    <tr>\n",
       "      <th>max</th>\n",
       "      <td>3.281920e+06</td>\n",
       "      <td>77.000000</td>\n",
       "      <td>42.022780</td>\n",
       "      <td>-87.524677</td>\n",
       "    </tr>\n",
       "  </tbody>\n",
       "</table>\n",
       "</div>"
      ],
      "text/plain": [
       "                 ID  COMMUNITY_AREA       LATITUDE      LONGITUDE\n",
       "count  7.158480e+05   611524.000000  713640.000000  713640.000000\n",
       "mean   2.527787e+06       31.517875      41.870022     -87.672906\n",
       "std    4.845136e+05       21.942573       0.083762       0.059605\n",
       "min    8.766740e+05        0.000000      41.644670     -87.940225\n",
       "25%    2.132719e+06       12.000000      41.803602     -87.707295\n",
       "50%    2.579556e+06       28.000000      41.885830     -87.662427\n",
       "75%    2.947415e+06       46.000000      41.930767     -87.631916\n",
       "max    3.281920e+06       77.000000      42.022780     -87.524677"
      ]
     },
     "execution_count": 17,
     "metadata": {},
     "output_type": "execute_result"
    }
   ],
   "source": [
    "chicago_permits_df_sub.describe()"
   ]
  },
  {
   "cell_type": "markdown",
   "metadata": {},
   "source": [
    "### Q2\n",
    "2.1 Conduct a preliminary exploration to explore the variables of the Chicago Building Permits by calculating one of the descriptive statistics without using describe() function. (avg, std, mean… example of one variable other than the variables shown above)\n",
    "\n",
    "2.2 Describe what you find that is unexpected or interesting.\n"
   ]
  },
  {
   "cell_type": "markdown",
   "metadata": {},
   "source": [
    "#### Q2.1"
   ]
  },
  {
   "cell_type": "code",
   "execution_count": 18,
   "metadata": {},
   "outputs": [
    {
     "data": {
      "text/plain": [
       "22.636535966717368"
      ]
     },
     "execution_count": 18,
     "metadata": {},
     "output_type": "execute_result"
    }
   ],
   "source": [
    "## TODO: Q2\n",
    "chicago_permits_df['PROCESSING_TIME'].dropna().mean()"
   ]
  },
  {
   "cell_type": "markdown",
   "metadata": {},
   "source": [
    "## Aggregating based on date"
   ]
  },
  {
   "cell_type": "markdown",
   "metadata": {},
   "source": [
    "For the purpose of analysizing APPLICATION_START_DATE distribution (feel free to explore other variables), in the dataframe \"chicago_permits_df_sub_notnull\", each row in our dataset corresponds to a permit application and the only column we've preserved is the date of the application. The task of forecasting number of permit applications is not really interesting (or reliable) at the granularity of day. Predicting at the granularity of week might be interesting, but let's start by grouping by month. To get some datatime functionality from Python, we'll convert our date column to a datetime type."
   ]
  },
  {
   "cell_type": "code",
   "execution_count": 19,
   "metadata": {},
   "outputs": [
    {
     "data": {
      "text/html": [
       "<div>\n",
       "<style scoped>\n",
       "    .dataframe tbody tr th:only-of-type {\n",
       "        vertical-align: middle;\n",
       "    }\n",
       "\n",
       "    .dataframe tbody tr th {\n",
       "        vertical-align: top;\n",
       "    }\n",
       "\n",
       "    .dataframe thead th {\n",
       "        text-align: right;\n",
       "    }\n",
       "</style>\n",
       "<table border=\"1\" class=\"dataframe\">\n",
       "  <thead>\n",
       "    <tr style=\"text-align: right;\">\n",
       "      <th></th>\n",
       "      <th>count</th>\n",
       "    </tr>\n",
       "    <tr>\n",
       "      <th>APPLICATION_START_DATE</th>\n",
       "      <th></th>\n",
       "    </tr>\n",
       "  </thead>\n",
       "  <tbody>\n",
       "    <tr>\n",
       "      <th>2001-07-31</th>\n",
       "      <td>35</td>\n",
       "    </tr>\n",
       "    <tr>\n",
       "      <th>2001-08-31</th>\n",
       "      <td>277</td>\n",
       "    </tr>\n",
       "    <tr>\n",
       "      <th>2001-09-30</th>\n",
       "      <td>104</td>\n",
       "    </tr>\n",
       "    <tr>\n",
       "      <th>2001-10-31</th>\n",
       "      <td>44</td>\n",
       "    </tr>\n",
       "    <tr>\n",
       "      <th>2001-11-30</th>\n",
       "      <td>45</td>\n",
       "    </tr>\n",
       "    <tr>\n",
       "      <th>2001-12-31</th>\n",
       "      <td>83</td>\n",
       "    </tr>\n",
       "    <tr>\n",
       "      <th>2002-01-31</th>\n",
       "      <td>36</td>\n",
       "    </tr>\n",
       "    <tr>\n",
       "      <th>2002-02-28</th>\n",
       "      <td>20</td>\n",
       "    </tr>\n",
       "    <tr>\n",
       "      <th>2002-03-31</th>\n",
       "      <td>18</td>\n",
       "    </tr>\n",
       "    <tr>\n",
       "      <th>2002-04-30</th>\n",
       "      <td>13</td>\n",
       "    </tr>\n",
       "  </tbody>\n",
       "</table>\n",
       "</div>"
      ],
      "text/plain": [
       "                        count\n",
       "APPLICATION_START_DATE       \n",
       "2001-07-31                 35\n",
       "2001-08-31                277\n",
       "2001-09-30                104\n",
       "2001-10-31                 44\n",
       "2001-11-30                 45\n",
       "2001-12-31                 83\n",
       "2002-01-31                 36\n",
       "2002-02-28                 20\n",
       "2002-03-31                 18\n",
       "2002-04-30                 13"
      ]
     },
     "execution_count": 19,
     "metadata": {},
     "output_type": "execute_result"
    }
   ],
   "source": [
    "import datetime\n",
    "\n",
    "fixed_dates_df = chicago_permits_df_sub_notnull.copy()\n",
    "fixed_dates_df[\"APPLICATION_START_DATE\"] = fixed_dates_df[\"APPLICATION_START_DATE\"].apply(pd.to_datetime)\n",
    "fixed_dates_df = fixed_dates_df.set_index(fixed_dates_df[\"APPLICATION_START_DATE\"])\n",
    "grouped = fixed_dates_df.resample(\"M\").count()\n",
    "data_df = pd.DataFrame({\"count\": grouped.values.flatten()}, index=grouped.index)\n",
    "data_df.head(10)"
   ]
  },
  {
   "cell_type": "markdown",
   "metadata": {},
   "source": [
    "## Plotting a histogram"
   ]
  },
  {
   "cell_type": "code",
   "execution_count": 20,
   "metadata": {},
   "outputs": [
    {
     "data": {
      "text/plain": [
       "array([[<AxesSubplot:title={'center':'ID'}>,\n",
       "        <AxesSubplot:title={'center':'COMMUNITY_AREA'}>],\n",
       "       [<AxesSubplot:title={'center':'LATITUDE'}>,\n",
       "        <AxesSubplot:title={'center':'LONGITUDE'}>]], dtype=object)"
      ]
     },
     "execution_count": 20,
     "metadata": {},
     "output_type": "execute_result"
    },
    {
     "data": {
      "image/png": "[encoded data removed]",
      "text/plain": [
       "<Figure size 432x288 with 4 Axes>"
      ]
     },
     "metadata": {
      "needs_background": "light"
     },
     "output_type": "display_data"
    }
   ],
   "source": [
    "chicago_permits_df_sub.hist()"
   ]
  },
  {
   "cell_type": "markdown",
   "metadata": {},
   "source": [
    "## Plotting a time series"
   ]
  },
  {
   "cell_type": "code",
   "execution_count": 21,
   "metadata": {},
   "outputs": [
    {
     "data": {
      "text/plain": [
       "<AxesSubplot:xlabel='APPLICATION_START_DATE'>"
      ]
     },
     "execution_count": 21,
     "metadata": {},
     "output_type": "execute_result"
    },
    {
     "data": {
      "image/png": "[encoded data removed]",
      "text/plain": [
       "<Figure size 432x288 with 1 Axes>"
      ]
     },
     "metadata": {},
     "output_type": "display_data"
    }
   ],
   "source": [
    "import matplotlib.pyplot as plt\n",
    "from pandas.plotting import register_matplotlib_converters\n",
    "register_matplotlib_converters()\n",
    "plt.style.use(\"ggplot\")\n",
    "\n",
    "data_df.plot(color=\"purple\")"
   ]
  },
  {
   "cell_type": "markdown",
   "metadata": {},
   "source": [
    "Notice how the number of applications in 2005 and before looks suspiciously low. My intuition is that this is a data problem. Let's remove all data from before 2006, since bad data will impact the accuracy of our model. Let's also remove data from before October of this year, since October is incomplete."
   ]
  },
  {
   "cell_type": "code",
   "execution_count": 22,
   "metadata": {},
   "outputs": [
    {
     "data": {
      "text/plain": [
       "<AxesSubplot:xlabel='APPLICATION_START_DATE'>"
      ]
     },
     "execution_count": 22,
     "metadata": {},
     "output_type": "execute_result"
    },
    {
     "data": {
      "image/png": "[encoded data removed]",
      "text/plain": [
       "<Figure size 432x288 with 1 Axes>"
      ]
     },
     "metadata": {},
     "output_type": "display_data"
    }
   ],
   "source": [
    "def is_between_2006_and_now(date):\n",
    "    return date > datetime.datetime(2006, 1, 1) and date < datetime.datetime(2022, 9, 1)\n",
    "#Please update the date range\n",
    "\n",
    "data_df = data_df[data_df.index.to_series().apply(is_between_2006_and_now)]\n",
    "data_df.plot(color=\"purple\")"
   ]
  },
  {
   "cell_type": "markdown",
   "metadata": {},
   "source": [
    "This plot makes two things pretty clear. First, there are some clear trends in the time series -- for example, an increase between 2011 and 2017, followed by a levelling off of permit applications. Second, there is a cyclic nature to the time series, which is indicative of there being seasonal variation in permit applications (which isn't surprising)."
   ]
  },
  {
   "cell_type": "markdown",
   "metadata": {},
   "source": [
    "### Q3"
   ]
  },
  {
   "cell_type": "markdown",
   "metadata": {},
   "source": [
    "Now let's make some (business) hypotheses based on what you found in Q1 – Q3. These will serve as a guide for the rest of your analysis. Not all hypotheses turn out to be correct or business-actionable, but this is how you start.\n",
    "Your task here is to propose three different hypotheses that will contribute to the business analysis (think about practical business end goal). Consider carefully what variables you will use here and think about the exploratory analysis you have already done. You will assess your hypothesis in the rest of your project.\n",
    "Explain briefly in words (the steps) how you plan to test your hypothesis without writing the code here.\n"
   ]
  },
  {
   "cell_type": "markdown",
   "metadata": {},
   "source": [
    "#### Q3.1\n",
    "**Hypothesis 1**  \n",
    "Building fees tend to be cheaper when the location is far from the city.\n",
    "\n",
    "I will gather the physical location of the building calculate the distance to the center of the city. I then will sort based on that distance and see whether there is a trend in price paid."
   ]
  },
  {
   "cell_type": "markdown",
   "metadata": {},
   "source": [
    "#### Q3.2\n",
    "**Hypothesis 2**   \n",
    "There amount of out of state customers are increasing.\n",
    "\n",
    "I will take the top 3 contacts information into account and accumulate with respect ot time. I will then analyze the percentage of customer from out of state."
   ]
  },
  {
   "cell_type": "markdown",
   "metadata": {},
   "source": [
    "#### Q3.3\n",
    "**Hypothesis 3**  \n",
    "Some community areas are more favored.\n",
    "\n",
    "I will find the number of buildings built in each community area and see whether there is a significant difference or a promising growth."
   ]
  }
 ],
 "metadata": {
  "kernelspec": {
   "display_name": "Python 3 (ipykernel)",
   "language": "python",
   "name": "python3"
  },
  "language_info": {
   "codemirror_mode": {
    "name": "ipython",
    "version": 3
   },
   "file_extension": ".py",
   "mimetype": "text/x-python",
   "name": "python",
   "nbconvert_exporter": "python",
   "pygments_lexer": "ipython3",
   "version": "3.10.6"
  }
 },
 "nbformat": 4,
 "nbformat_minor": 4
}
